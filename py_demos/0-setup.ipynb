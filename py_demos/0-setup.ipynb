{
 "cells": [
  {
   "cell_type": "markdown",
   "metadata": {},
   "source": [
    "\n",
    "## Introduction\n",
    "\n",
    "This module will teach you how to make a synapse configuration file so that you do not have to enter your credentials every time you want to download data from Synapse when using `synapseclient`. If you are simply browsing the HTML versions of these demos and not running the markdown files interactively in the hackathon Docker container, you can probably skip this module. Otherwise, please read on. \n",
    "\n",
    "## Making a Synapse Config file\n",
    "\n",
    "This file lives in your home directory, and will provide your credentials to your Synapse R, Python and command-line clients. If you are creating this in the hackathon docker container, please remember that files created in the running containers are transient - if you stop the container, you'll have to recreate this configuration file. \n",
    "\n",
    "Also, after editing the following snippet, do not save the file and push to Github! If you accidentally push your synapse credentials to github, you'll need to run a tool like BFG Repo Cleaner to scrub them from your repository.\n",
    "\n",
    "All this being said, to create a .synapseConfig file, you can simply edit \"username\" to your Synapse username and \"password\" in the following snippet, uncomment the final 3 lines and then run it to create a .synapseConfig file in your home directory.\n"
   ]
  },
  {
   "cell_type": "code",
   "execution_count": 1,
   "metadata": {},
   "outputs": [],
   "source": [
    "import os \n",
    "\n",
    "username = \"username\"\n",
    "password = \"password\"\n",
    "\n",
    "creds = \"[authentication]\\n\" + \"username = \" + username + \"\\n\" + \"password = \" + password\n",
    "\n",
    "home = os.path.expanduser('~')\n",
    "name = os.path.join(home, \".synapseConfig\")         \n",
    "\n",
    "#Uncomment the following lines to write your .synapseConfig file\n",
    "#file = open(name, \"w+\") \n",
    "#file.write(creds) \n",
    "#file.close() \n"
   ]
  },
  {
   "cell_type": "markdown",
   "metadata": {},
   "source": [
    "## Testing your configuration file\n",
    "\n",
    "Let's check that this worked by loading `synapseclient` and logging in.  \n",
    "After running `syn.login()` to log in to synapse, you should see a message like `Welcome, FirstName LastName!``"
   ]
  },
  {
   "cell_type": "code",
   "execution_count": 2,
   "metadata": {},
   "outputs": [
    {
     "name": "stdout",
     "output_type": "stream",
     "text": [
      "Welcome, Robert Allaway!\n",
      "\n"
     ]
    },
    {
     "data": {
      "text/plain": [
       "<synapseclient.client.Synapse at 0x1051070b8>"
      ]
     },
     "execution_count": 2,
     "metadata": {},
     "output_type": "execute_result"
    }
   ],
   "source": [
    "import synapseclient as syn\n",
    "syn.login()"
   ]
  }
 ],
 "metadata": {
  "kernelspec": {
   "display_name": "Python 3",
   "language": "python",
   "name": "python3"
  },
  "language_info": {
   "codemirror_mode": {
    "name": "ipython",
    "version": 3
   },
   "file_extension": ".py",
   "mimetype": "text/x-python",
   "name": "python",
   "nbconvert_exporter": "python",
   "pygments_lexer": "ipython3",
   "version": "3.7.3"
  }
 },
 "nbformat": 4,
 "nbformat_minor": 2
}
